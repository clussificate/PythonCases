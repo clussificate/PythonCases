{
 "cells": [
  {
   "cell_type": "code",
   "execution_count": 4,
   "metadata": {},
   "outputs": [
    {
     "ename": "ERROR",
     "evalue": "Error in gsub(\"%%\", \"\", s): 找不到对象'plot.jpg'\n",
     "output_type": "error",
     "traceback": [
      "Error in gsub(\"%%\", \"\", s): 找不到对象'plot.jpg'\nTraceback:\n",
      "1. jpeg(file = plot.jpg)",
      "2. checkIntFormat(filename)",
      "3. gsub(\"%%\", \"\", s)"
     ]
    }
   ],
   "source": [
    "# R 语言测试脚本\n",
    "x = c(1,2,3,4)\n",
    "y = x^2\n",
    "jpeg(file=plot.jpg) # 保存图像\n",
    "plot(x,y) # 画散点图\n",
    "dev.off() # 关闭设备"
   ]
  },
  {
   "cell_type": "code",
   "execution_count": null,
   "metadata": {
    "collapsed": true
   },
   "outputs": [],
   "source": []
  }
 ],
 "metadata": {
  "kernelspec": {
   "display_name": "R",
   "language": "R",
   "name": "ir"
  },
  "language_info": {
   "codemirror_mode": "r",
   "file_extension": ".r",
   "mimetype": "text/x-r-source",
   "name": "R",
   "pygments_lexer": "r",
   "version": "3.4.1"
  }
 },
 "nbformat": 4,
 "nbformat_minor": 2
}
