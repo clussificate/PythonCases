{
 "cells": [
  {
   "cell_type": "code",
   "execution_count": 1,
   "metadata": {
    "collapsed": true
   },
   "outputs": [],
   "source": [
    "import numpy as np\n",
    "import pandas as pd"
   ]
  },
  {
   "cell_type": "code",
   "execution_count": 4,
   "metadata": {},
   "outputs": [],
   "source": [
    "dates = pd.date_range('20170220',periods=6)"
   ]
  },
  {
   "cell_type": "code",
   "execution_count": 5,
   "metadata": {},
   "outputs": [
    {
     "data": {
      "text/plain": [
       "DatetimeIndex(['2017-02-20', '2017-02-21', '2017-02-22', '2017-02-23',\n",
       "               '2017-02-24', '2017-02-25'],\n",
       "              dtype='datetime64[ns]', freq='D')"
      ]
     },
     "execution_count": 5,
     "metadata": {},
     "output_type": "execute_result"
    }
   ],
   "source": [
    "dates"
   ]
  },
  {
   "cell_type": "code",
   "execution_count": 6,
   "metadata": {
    "collapsed": true
   },
   "outputs": [],
   "source": [
    "data = pd.DataFrame(np.random.randn(6,4),index = dates, columns=list(\"ABCD\"))"
   ]
  },
  {
   "cell_type": "code",
   "execution_count": 7,
   "metadata": {},
   "outputs": [
    {
     "data": {
      "text/html": [
       "<div>\n",
       "<table border=\"1\" class=\"dataframe\">\n",
       "  <thead>\n",
       "    <tr style=\"text-align: right;\">\n",
       "      <th></th>\n",
       "      <th>A</th>\n",
       "      <th>B</th>\n",
       "      <th>C</th>\n",
       "      <th>D</th>\n",
       "    </tr>\n",
       "  </thead>\n",
       "  <tbody>\n",
       "    <tr>\n",
       "      <th>2017-02-20</th>\n",
       "      <td>1.267155</td>\n",
       "      <td>1.636847</td>\n",
       "      <td>1.125037</td>\n",
       "      <td>-0.077942</td>\n",
       "    </tr>\n",
       "    <tr>\n",
       "      <th>2017-02-21</th>\n",
       "      <td>-1.603113</td>\n",
       "      <td>-0.045022</td>\n",
       "      <td>-0.287580</td>\n",
       "      <td>-0.369795</td>\n",
       "    </tr>\n",
       "    <tr>\n",
       "      <th>2017-02-22</th>\n",
       "      <td>0.711284</td>\n",
       "      <td>0.002648</td>\n",
       "      <td>-0.178421</td>\n",
       "      <td>1.288354</td>\n",
       "    </tr>\n",
       "    <tr>\n",
       "      <th>2017-02-23</th>\n",
       "      <td>-0.532117</td>\n",
       "      <td>0.814218</td>\n",
       "      <td>-0.468696</td>\n",
       "      <td>-0.322348</td>\n",
       "    </tr>\n",
       "    <tr>\n",
       "      <th>2017-02-24</th>\n",
       "      <td>-0.187572</td>\n",
       "      <td>-2.086479</td>\n",
       "      <td>0.263631</td>\n",
       "      <td>0.390751</td>\n",
       "    </tr>\n",
       "    <tr>\n",
       "      <th>2017-02-25</th>\n",
       "      <td>-1.767717</td>\n",
       "      <td>0.720745</td>\n",
       "      <td>0.210520</td>\n",
       "      <td>2.049541</td>\n",
       "    </tr>\n",
       "  </tbody>\n",
       "</table>\n",
       "</div>"
      ],
      "text/plain": [
       "                   A         B         C         D\n",
       "2017-02-20  1.267155  1.636847  1.125037 -0.077942\n",
       "2017-02-21 -1.603113 -0.045022 -0.287580 -0.369795\n",
       "2017-02-22  0.711284  0.002648 -0.178421  1.288354\n",
       "2017-02-23 -0.532117  0.814218 -0.468696 -0.322348\n",
       "2017-02-24 -0.187572 -2.086479  0.263631  0.390751\n",
       "2017-02-25 -1.767717  0.720745  0.210520  2.049541"
      ]
     },
     "execution_count": 7,
     "metadata": {},
     "output_type": "execute_result"
    }
   ],
   "source": [
    "data"
   ]
  },
  {
   "cell_type": "code",
   "execution_count": null,
   "metadata": {
    "collapsed": true
   },
   "outputs": [],
   "source": []
  }
 ],
 "metadata": {
  "kernelspec": {
   "display_name": "Python 3",
   "language": "python",
   "name": "python3"
  },
  "language_info": {
   "codemirror_mode": {
    "name": "ipython",
    "version": 3
   },
   "file_extension": ".py",
   "mimetype": "text/x-python",
   "name": "python",
   "nbconvert_exporter": "python",
   "pygments_lexer": "ipython3",
   "version": "3.5.2"
  }
 },
 "nbformat": 4,
 "nbformat_minor": 2
}
