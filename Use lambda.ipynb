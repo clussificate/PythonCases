{
 "cells": [
  {
   "cell_type": "markdown",
   "metadata": {
    "collapsed": true
   },
   "source": [
    "# Lambda简介\n",
    "Lambda表达式是Python中一类特殊的定义函数的形式，使用它可以定义一个匿名函数。  \n",
    "匿名函数即没有函数名的函数，与其它语言不同，Python的Lambda表达式的函数体只能有唯一的一条语句，也就是返回值表达式语句。  "
   ]
  },
  {
   "cell_type": "markdown",
   "metadata": {},
   "source": [
    "- Lambda的使用不应当增加代码的阅读难度\n",
    "- 能用列表推导式尽量用列表推导式\n",
    "- Lambda常与map,reduce,filter一起使用"
   ]
  },
  {
   "cell_type": "code",
   "execution_count": 11,
   "metadata": {
    "collapsed": true
   },
   "outputs": [],
   "source": [
    "from numpy import *"
   ]
  },
  {
   "cell_type": "code",
   "execution_count": 1,
   "metadata": {},
   "outputs": [
    {
     "data": {
      "text/plain": [
       "11"
      ]
     },
     "execution_count": 1,
     "metadata": {},
     "output_type": "execute_result"
    }
   ],
   "source": [
    "g = lambda x:2*x+1\n",
    "g(5)"
   ]
  },
  {
   "cell_type": "code",
   "execution_count": 4,
   "metadata": {},
   "outputs": [
    {
     "name": "stdout",
     "output_type": "stream",
     "text": [
      "7\n",
      "7\n"
     ]
    }
   ],
   "source": [
    "def add(x,y):\n",
    "    return x+y\n",
    "print(add(3,4))\n",
    "g = lambda x,y:x+y\n",
    "print(g(3,4))"
   ]
  },
  {
   "cell_type": "code",
   "execution_count": 20,
   "metadata": {},
   "outputs": [
    {
     "data": {
      "text/plain": [
       "[0, -1, -2, 3, -4, 5, -6]"
      ]
     },
     "execution_count": 20,
     "metadata": {},
     "output_type": "execute_result"
    }
   ],
   "source": [
    "# 按照绝对值大小排序\n",
    "# sorted函数支持接收一个函数作为参数，该参数作为 sorted 的排序依据\n",
    "list1 = [3,5,-4,-1,0,-2,-6]\n",
    "sorted(list1,key = lambda x:abs(x))"
   ]
  },
  {
   "cell_type": "markdown",
   "metadata": {},
   "source": [
    "# filter()  过滤器\n",
    "filter()函数有两个参数，第一个参数可以是函数，也可以是None,第二个参数是一个可以迭代的数据。  \n",
    "如果第一个参数是一个函数的话，那么将第二个可叠代数据中的每一个元素作为函数的参数进行计算，**把返回True的值筛选出来**，并成为一个列表。如果第一个参数为None，那么将第二个参数中为True的值筛选出来。  \n",
    " "
   ]
  },
  {
   "cell_type": "code",
   "execution_count": 5,
   "metadata": {},
   "outputs": [
    {
     "name": "stdout",
     "output_type": "stream",
     "text": [
      "[1, True]\n",
      "[1, 3, 5, 7, 9]\n"
     ]
    }
   ],
   "source": [
    "# 第一个函数是None时\n",
    "print(list(filter(None,[1,0,False,True])))\n",
    "\n",
    "# 第一个函数是Function时\n",
    "def odd(x):\n",
    "    return x%2\n",
    "temp = range(10)\n",
    "show = filter(odd,temp)\n",
    "print(list(show))"
   ]
  },
  {
   "cell_type": "code",
   "execution_count": 7,
   "metadata": {},
   "outputs": [
    {
     "name": "stdout",
     "output_type": "stream",
     "text": [
      "[1, 3, 5, 7, 9]\n"
     ]
    }
   ],
   "source": [
    "# 用lambda改写：\n",
    "show2 = filter(lambda x: x%2,temp)\n",
    "print(list(show2))"
   ]
  },
  {
   "cell_type": "markdown",
   "metadata": {},
   "source": [
    "# map() 映射函数\n",
    "同样有两个参数，仍然为一个函数和一个可叠代的序列，作用是将序列中每一个元素作为函数的参数进行运算加工，直到可叠代序列中每一个元素都加工完毕并返回所有加工后的元素并构成一个新的序列。"
   ]
  },
  {
   "cell_type": "code",
   "execution_count": 9,
   "metadata": {},
   "outputs": [
    {
     "name": "stdout",
     "output_type": "stream",
     "text": [
      "[0, 1, 0, 1, 0, 1, 0, 1, 0, 1]\n"
     ]
    }
   ],
   "source": [
    "show3 = map((lambda x: x%2),range(10))\n",
    "print(list(show3))"
   ]
  },
  {
   "cell_type": "markdown",
   "metadata": {},
   "source": [
    "## 列表解析与map\n",
    "列表解析可以实现map函数同样的功能，**而且往往比map要快**。"
   ]
  },
  {
   "cell_type": "code",
   "execution_count": 19,
   "metadata": {},
   "outputs": [
    {
     "name": "stdout",
     "output_type": "stream",
     "text": [
      "[0, 1, 4, 9, 16, 25, 36, 49, 64, 81]\n",
      "[0, 1, 4, 9, 16, 25, 36, 49, 64, 81]\n"
     ]
    }
   ],
   "source": [
    "print([x**2 for x in range(10)])\n",
    "print(list(map(lambda x:x**2,range(10))))"
   ]
  },
  {
   "cell_type": "code",
   "execution_count": 16,
   "metadata": {},
   "outputs": [
    {
     "name": "stdout",
     "output_type": "stream",
     "text": [
      "[1, 3, 5, 7, 9, 3, 5, 7, 9, 11, 5, 7, 9, 11, 13]\n"
     ]
    }
   ],
   "source": [
    "# 列表解析器也更加可读\n",
    "print([x+y for x in range(5) if x%2 == 0 for y in range(10) if y%2==1])"
   ]
  },
  {
   "cell_type": "markdown",
   "metadata": {},
   "source": [
    "# reduce()\n",
    "用传给reduce中的函数 func()（必须是一个二元操作函数）先对集合中的第1，2个数据进行操作，得到的结果再与第三个数据用func()函数运算，最后得到一个结果。python 3.3 以上版本 reduce（）在functools中"
   ]
  },
  {
   "cell_type": "code",
   "execution_count": 24,
   "metadata": {},
   "outputs": [
    {
     "name": "stdout",
     "output_type": "stream",
     "text": [
      "5050\n",
      "5050\n"
     ]
    }
   ],
   "source": [
    "# 如计算1+2+3+4+...+100\n",
    "from functools import reduce\n",
    "ls = range(1,101)\n",
    "def myadd(x,y):\n",
    "    return x+y\n",
    "sum1 = reduce(myadd,ls)\n",
    "print(sum1)\n",
    "\n",
    "sum2 = reduce(lambda x,y:x+y,ls)\n",
    "print(sum2)"
   ]
  },
  {
   "cell_type": "code",
   "execution_count": 26,
   "metadata": {},
   "outputs": [
    {
     "name": "stdout",
     "output_type": "stream",
     "text": [
      "120\n"
     ]
    }
   ],
   "source": [
    "# 计算阶乘： 5!\n",
    "result = reduce(lambda x,y:x*y,range(1,6))\n",
    "print(result)"
   ]
  },
  {
   "cell_type": "code",
   "execution_count": null,
   "metadata": {
    "collapsed": true
   },
   "outputs": [],
   "source": []
  }
 ],
 "metadata": {
  "kernelspec": {
   "display_name": "Python 3",
   "language": "python",
   "name": "python3"
  },
  "language_info": {
   "codemirror_mode": {
    "name": "ipython",
    "version": 3
   },
   "file_extension": ".py",
   "mimetype": "text/x-python",
   "name": "python",
   "nbconvert_exporter": "python",
   "pygments_lexer": "ipython3",
   "version": "3.5.2"
  }
 },
 "nbformat": 4,
 "nbformat_minor": 2
}
