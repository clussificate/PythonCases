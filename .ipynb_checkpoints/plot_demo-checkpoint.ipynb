{
 "cells": [
  {
   "cell_type": "markdown",
   "metadata": {},
   "source": [
    "# First Heading\n",
    "this is the first heading"
   ]
  },
  {
   "cell_type": "code",
   "execution_count": null,
   "metadata": {
    "collapsed": true
   },
   "outputs": [],
   "source": [
    "# R 语言测试脚本\n",
    "x <- c(1,2,3,4)\n",
    "y <- x*x\n",
    "jpeg(file=\"plot.jpg\") # 保存图像\n",
    "plt <- plot(x,y) # 画散点图\n",
    "dev.off() # 关闭设备"
   ]
  }
 ],
 "metadata": {
  "kernelspec": {
   "display_name": "R",
   "language": "R",
   "name": "ir"
  }
 },
 "nbformat": 4,
 "nbformat_minor": 2
}
