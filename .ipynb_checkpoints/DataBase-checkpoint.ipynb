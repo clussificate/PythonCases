{
 "cells": [
  {
   "cell_type": "code",
   "execution_count": 2,
   "metadata": {
    "collapsed": true
   },
   "outputs": [],
   "source": [
    "import pymysql\n",
    "from datetime import date, datetime, timedelta"
   ]
  },
  {
   "cell_type": "code",
   "execution_count": 13,
   "metadata": {
    "collapsed": true
   },
   "outputs": [],
   "source": [
    "conn = pymysql.connect(host='127.0.0.7',port=3306,user='root',\n",
    "                       password='123456',db='dbt',charset = 'utf8mb4',\n",
    "                      cursorclass = pymysql.cursors.DictCursor)\n",
    "cursor = conn.cursor()"
   ]
  },
  {
   "cell_type": "code",
   "execution_count": 10,
   "metadata": {
    "collapsed": true
   },
   "outputs": [],
   "source": [
    "tomorrow = datetime.now().date() + timedelta(days=1)"
   ]
  },
  {
   "cell_type": "code",
   "execution_count": 15,
   "metadata": {
    "collapsed": true
   },
   "outputs": [],
   "source": [
    "#创建表\n",
    "sql = \"\"\"CREATE TABLE EMPLOYEE(\n",
    "FIRST_NAME CHAR(20) NOT NULL,\n",
    "LAST_NAME CHAR(20) NOT NULL,\n",
    "AGE INT)\"\"\""
   ]
  },
  {
   "cell_type": "code",
   "execution_count": 16,
   "metadata": {},
   "outputs": [
    {
     "data": {
      "text/plain": [
       "0"
      ]
     },
     "execution_count": 16,
     "metadata": {},
     "output_type": "execute_result"
    }
   ],
   "source": [
    "cursor.execute(sql)"
   ]
  },
  {
   "cell_type": "code",
   "execution_count": 17,
   "metadata": {
    "collapsed": true
   },
   "outputs": [],
   "source": [
    "sql = \"\"\"INSERT INTO EMPLOYEE(FIRST_NAME,LAST_NAME,AGE) VALUES('Mac','Mpnha',20)\"\"\""
   ]
  },
  {
   "cell_type": "code",
   "execution_count": 20,
   "metadata": {
    "collapsed": true
   },
   "outputs": [],
   "source": [
    "try:\n",
    "    cursor.execute(sql)\n",
    "    conn.commit()\n",
    "except:\n",
    "    conn.rollback()\n",
    "conn.close()"
   ]
  },
  {
   "cell_type": "code",
   "execution_count": 23,
   "metadata": {
    "collapsed": true
   },
   "outputs": [],
   "source": [
    "conn = pymysql.connect(host='127.0.0.7',port=3306,user='root',\n",
    "                       password='123456',db='dbt',charset = 'utf8mb4',\n",
    "                      cursorclass = pymysql.cursors.DictCursor)\n",
    "cursor = conn.cursor()"
   ]
  },
  {
   "cell_type": "code",
   "execution_count": 24,
   "metadata": {},
   "outputs": [
    {
     "data": {
      "text/plain": [
       "1"
      ]
     },
     "execution_count": 24,
     "metadata": {},
     "output_type": "execute_result"
    }
   ],
   "source": [
    "cursor.execute(\"SELECT VERSION()\")"
   ]
  },
  {
   "cell_type": "code",
   "execution_count": 25,
   "metadata": {},
   "outputs": [
    {
     "name": "stdout",
     "output_type": "stream",
     "text": [
      "Datanase version: {'VERSION()': '5.7.17-log'}\n"
     ]
    }
   ],
   "source": [
    "data = cursor.fetchone()\n",
    "print(\"Datanase version: %s\" % data)"
   ]
  },
  {
   "cell_type": "code",
   "execution_count": 26,
   "metadata": {
    "collapsed": true
   },
   "outputs": [],
   "source": [
    "conn.close()"
   ]
  },
  {
   "cell_type": "code",
   "execution_count": 60,
   "metadata": {},
   "outputs": [
    {
     "data": {
      "text/plain": [
       "0"
      ]
     },
     "execution_count": 60,
     "metadata": {},
     "output_type": "execute_result"
    }
   ],
   "source": [
    "db = pymysql.connect(host='127.0.0.1',port = 3306,user = 'root',password='123456',db='dbt',charset='utf8mb4')\n",
    "cursor = db.cursor()\n",
    "cursor.execute(\"DROP TABLE IF EXISTS EMPLOYEE\")"
   ]
  },
  {
   "cell_type": "code",
   "execution_count": 61,
   "metadata": {
    "collapsed": true
   },
   "outputs": [],
   "source": [
    "# 建立数据表\n",
    "sql = \"\"\"CREATE TABLE EMPLOYEE(\n",
    "FIRST_NAME CHAR(20) NOT NULL,\n",
    "LAST_NAME CHAR(20),\n",
    "AGE INT,\n",
    "SEX CHAR(1),\n",
    "INCOME FLOAT)\"\"\""
   ]
  },
  {
   "cell_type": "code",
   "execution_count": 62,
   "metadata": {},
   "outputs": [
    {
     "data": {
      "text/plain": [
       "0"
      ]
     },
     "execution_count": 62,
     "metadata": {},
     "output_type": "execute_result"
    }
   ],
   "source": [
    "cursor.execute(sql)"
   ]
  },
  {
   "cell_type": "code",
   "execution_count": 63,
   "metadata": {
    "collapsed": true
   },
   "outputs": [],
   "source": [
    "# 数据库插入操作\n",
    "sql =\"\"\"INSERT INTO EMPLOYEE(\n",
    "FIRST_NAME,LAST_NAME,AGE,SEX,INCOME) VALUES\n",
    "('Mac','Mohan',20,'M',2000)\"\"\"\n",
    "try:\n",
    "    cursor.execute(sql)\n",
    "    db.commit()\n",
    "except:\n",
    "    db.rollback()\n",
    "    \n"
   ]
  },
  {
   "cell_type": "code",
   "execution_count": 64,
   "metadata": {
    "collapsed": true
   },
   "outputs": [],
   "source": [
    "# 插入操作2\n",
    "sql = \"\"\"INSERT INTO EMPLOYEE(\n",
    "FIRST_NAME,LAST_NAME,AGE,SEX,INCOME)\n",
    "VALUES (%s,%s,%s,%s,%s)\"\"\"\n",
    "try:\n",
    "    cursor.execute(sql,('Mark','Lee',20,'M',2100) )\n",
    "    db.commit()\n",
    "except:\n",
    "    db.rollback()"
   ]
  },
  {
   "cell_type": "code",
   "execution_count": 65,
   "metadata": {
    "collapsed": true
   },
   "outputs": [],
   "source": [
    "db.close()"
   ]
  },
  {
   "cell_type": "code",
   "execution_count": 71,
   "metadata": {},
   "outputs": [
    {
     "name": "stdout",
     "output_type": "stream",
     "text": [
      "fname=Mac,lname=Mohan,age=20,sex=M,income=2000.00\n",
      "fname=Mark,lname=Lee,age=20,sex=M,income=2100.00\n"
     ]
    }
   ],
   "source": [
    "# 数据库查询操作\n",
    "db = pymysql.connect(host='localhost',port = 3306,user = 'root',password='123456',db='dbt',charset='utf8mb4')\n",
    "cursor = db.cursor()\n",
    "sql = \"\"\"SELECT * FROM EMPLOYEE WHERE INCOME > '%s'\"\"\"\n",
    "try:\n",
    "    cursor.execute(sql,1000)\n",
    "    results = cursor.fetchall()\n",
    "    for row in results:\n",
    "        fname = row[0]\n",
    "        lname = row[1]\n",
    "        age = row[2]\n",
    "        sex = row[3]\n",
    "        income = row[4]\n",
    "        print(\"fname=%s,lname=%s,age=%s,sex=%s,income=%.2f\" % \\\n",
    "             (fname,lname,age,sex,income))\n",
    "except:\n",
    "    print(\"Error: unable to fetch data\")"
   ]
  },
  {
   "cell_type": "code",
   "execution_count": 72,
   "metadata": {
    "collapsed": true
   },
   "outputs": [],
   "source": [
    "db.close()"
   ]
  },
  {
   "cell_type": "code",
   "execution_count": 4,
   "metadata": {},
   "outputs": [],
   "source": [
    "# 创建带有逐渐的数据表\n",
    "db = pymysql.connect(host='localhost',port = 3306,user = 'root',password='123456',db='dbt',charset='utf8mb4')\n",
    "cursor = db.cursor()"
   ]
  },
  {
   "cell_type": "code",
   "execution_count": 12,
   "metadata": {},
   "outputs": [
    {
     "name": "stderr",
     "output_type": "stream",
     "text": [
      "d:\\py3.5.2\\lib\\site-packages\\pymysql\\cursors.py:166: Warning: (1051, \"Unknown table 'dbt.test2'\")\n",
      "  result = self._query(query)\n"
     ]
    },
    {
     "data": {
      "text/plain": [
       "0"
      ]
     },
     "execution_count": 12,
     "metadata": {},
     "output_type": "execute_result"
    }
   ],
   "source": [
    "cursor.execute(\"DROP TABLE IF EXISTS TEST2\")\n",
    "sql = \"\"\"CREATE TABLE TEST2(ID INT(11) NOT NULL AUTO_INCREMENT,\n",
    "NAME CHAR(20) NOT NULL,\n",
    "SEX ENUM('F','M'),\n",
    "AGE INT(4),\n",
    "SALARY FLOAT(10) DEFAULT '5000.0',\n",
    "PRIMARY KEY (ID))\"\"\"\n",
    "cursor.execute(sql)"
   ]
  },
  {
   "cell_type": "code",
   "execution_count": 26,
   "metadata": {
    "collapsed": true
   },
   "outputs": [],
   "source": [
    "db.close()"
   ]
  },
  {
   "cell_type": "code",
   "execution_count": 35,
   "metadata": {},
   "outputs": [
    {
     "data": {
      "text/plain": [
       "0"
      ]
     },
     "execution_count": 35,
     "metadata": {},
     "output_type": "execute_result"
    }
   ],
   "source": [
    "# 修改值\n",
    "db = pymysql.connect(host='localhost',port = 3306,user = 'root',password='123456',db='dbt',charset='utf8mb4')\n",
    "cursor = db.cursor()\n",
    "cursor.execute(\"SET SQL_SAFE_UPDATES = 0\")"
   ]
  },
  {
   "cell_type": "code",
   "execution_count": 38,
   "metadata": {},
   "outputs": [],
   "source": [
    "sql = \"\"\"UPDATE TEST2 SET SALARY='3700' WHERE NAME='ZHANG SAN'\"\"\"\n",
    "try:\n",
    "    cursor.execute(sql)\n",
    "    db.commit()\n",
    "except:\n",
    "    db.rollback()"
   ]
  },
  {
   "cell_type": "code",
   "execution_count": 41,
   "metadata": {
    "collapsed": true
   },
   "outputs": [],
   "source": [
    "db.close()"
   ]
  },
  {
   "cell_type": "code",
   "execution_count": null,
   "metadata": {
    "collapsed": true
   },
   "outputs": [],
   "source": []
  }
 ],
 "metadata": {
  "kernelspec": {
   "display_name": "Python 3",
   "language": "python",
   "name": "python3"
  },
  "language_info": {
   "codemirror_mode": {
    "name": "ipython",
    "version": 3
   },
   "file_extension": ".py",
   "mimetype": "text/x-python",
   "name": "python",
   "nbconvert_exporter": "python",
   "pygments_lexer": "ipython3",
   "version": "3.5.2"
  }
 },
 "nbformat": 4,
 "nbformat_minor": 2
}
